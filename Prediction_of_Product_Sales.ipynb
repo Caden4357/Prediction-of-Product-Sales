{
  "nbformat": 4,
  "nbformat_minor": 0,
  "metadata": {
    "colab": {
      "provenance": [],
      "authorship_tag": "ABX9TyPHjRMyr3d1nPCUI1WootOj",
      "include_colab_link": true
    },
    "kernelspec": {
      "name": "python3",
      "display_name": "Python 3"
    },
    "language_info": {
      "name": "python"
    }
  },
  "cells": [
    {
      "cell_type": "markdown",
      "metadata": {
        "id": "view-in-github",
        "colab_type": "text"
      },
      "source": [
        "<a href=\"https://colab.research.google.com/github/Caden4357/Prediction-of-Product-Sales/blob/main/Prediction_of_Product_Sales.ipynb\" target=\"_parent\"><img src=\"https://colab.research.google.com/assets/colab-badge.svg\" alt=\"Open In Colab\"/></a>"
      ]
    },
    {
      "cell_type": "markdown",
      "source": [
        "# Prediction Of Proudct Sales\n",
        "- Author: Caden Wilcox\n",
        "\n"
      ],
      "metadata": {
        "id": "aO-HTIL10I-Q"
      }
    },
    {
      "cell_type": "markdown",
      "source": [
        "## Project Overview"
      ],
      "metadata": {
        "id": "X1WyeX310vtK"
      }
    },
    {
      "cell_type": "markdown",
      "source": [
        "# Load And Inspect Data"
      ],
      "metadata": {
        "id": "5t0TAD8c0-i3"
      }
    },
    {
      "cell_type": "code",
      "execution_count": null,
      "metadata": {
        "id": "dxkvHpuFzn_p"
      },
      "outputs": [],
      "source": [
        "\n"
      ]
    },
    {
      "cell_type": "markdown",
      "source": [
        "# Clean Data"
      ],
      "metadata": {
        "id": "TQ3Is3Y21B8Y"
      }
    },
    {
      "cell_type": "code",
      "source": [],
      "metadata": {
        "id": "eQRzWV7O1Dd3"
      },
      "execution_count": null,
      "outputs": []
    },
    {
      "cell_type": "markdown",
      "source": [
        "# Exploratory Data Analysis"
      ],
      "metadata": {
        "id": "2wI4-ggG1DyI"
      }
    },
    {
      "cell_type": "code",
      "source": [],
      "metadata": {
        "id": "PfF-x3Fg1G_C"
      },
      "execution_count": null,
      "outputs": []
    },
    {
      "cell_type": "markdown",
      "source": [
        "# Feature Inspection"
      ],
      "metadata": {
        "id": "3DLbJ3L41Jfp"
      }
    },
    {
      "cell_type": "code",
      "source": [],
      "metadata": {
        "id": "5UIbhkql1NK3"
      },
      "execution_count": null,
      "outputs": []
    }
  ]
}